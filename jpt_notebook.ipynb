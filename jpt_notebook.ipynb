{
 "cells": [
  {
   "cell_type": "code",
   "execution_count": 1,
   "metadata": {},
   "outputs": [],
   "source": [
    "from sqlalchemy import insert, delete\n",
    "from src.database import session_factory\n",
    "from src.auth.models import User\n",
    "from src.auth.schemas import UserCreate\n",
    "from src.auth.utils import jwtmanager"
   ]
  },
  {
   "cell_type": "code",
   "execution_count": 2,
   "metadata": {},
   "outputs": [],
   "source": [
    "user_1 = UserCreate(\n",
    "    username='AppleJack',\n",
    "    password=await jwtmanager.hash_password('qwerty'),\n",
    "    email='asdfsd@example.com',\n",
    ")\n",
    "\n",
    "user_2 = UserCreate(\n",
    "    username='Tekai',\n",
    "    password=await jwtmanager.hash_password('gamer228'),\n",
    "    email='tekai@example.com',\n",
    ")"
   ]
  },
  {
   "cell_type": "code",
   "execution_count": 5,
   "metadata": {},
   "outputs": [
    {
     "name": "stdout",
     "output_type": "stream",
     "text": [
      "INSERT INTO \"user\" (user_id, username, email, password, is_active) VALUES (:user_id, :username, :email, :password, :is_active)\n"
     ]
    }
   ],
   "source": [
    "stmt = insert(User).values(user_2.model_dump())\n",
    "print(stmt)"
   ]
  },
  {
   "cell_type": "code",
   "execution_count": 6,
   "metadata": {},
   "outputs": [
    {
     "name": "stdout",
     "output_type": "stream",
     "text": [
      "2024-02-04 11:15:00,482 INFO sqlalchemy.engine.Engine BEGIN (implicit)\n",
      "2024-02-04 11:15:00,483 INFO sqlalchemy.engine.Engine INSERT INTO \"user\" (user_id, username, email, password, is_active) VALUES ($1::UUID, $2::VARCHAR, $3::VARCHAR, $4::BYTEA, $5::BOOLEAN)\n",
      "2024-02-04 11:15:00,484 INFO sqlalchemy.engine.Engine [cached since 6.327s ago] (UUID('2d85a430-e4f7-47be-864b-0b7c32dd2208'), 'Tekai', 'tekai@example.com', b'$2b$12$XVztv6SAh.uqas.GyuikLuDMbEHtBCwb.3nFs77MG9/DEG/19AR9y', True)\n",
      "2024-02-04 11:15:00,486 INFO sqlalchemy.engine.Engine COMMIT\n"
     ]
    }
   ],
   "source": [
    "async with session_factory() as session:\n",
    "    await session.execute(stmt)\n",
    "    await session.commit()"
   ]
  },
  {
   "cell_type": "code",
   "execution_count": 3,
   "metadata": {},
   "outputs": [
    {
     "name": "stdout",
     "output_type": "stream",
     "text": [
      "DELETE FROM \"user\"\n"
     ]
    }
   ],
   "source": [
    "stmt = delete(User)\n",
    "print(stmt)"
   ]
  },
  {
   "cell_type": "code",
   "execution_count": null,
   "metadata": {},
   "outputs": [],
   "source": []
  }
 ],
 "metadata": {
  "kernelspec": {
   "display_name": ".venv",
   "language": "python",
   "name": "python3"
  },
  "language_info": {
   "codemirror_mode": {
    "name": "ipython",
    "version": 3
   },
   "file_extension": ".py",
   "mimetype": "text/x-python",
   "name": "python",
   "nbconvert_exporter": "python",
   "pygments_lexer": "ipython3",
   "version": "3.11.7"
  }
 },
 "nbformat": 4,
 "nbformat_minor": 2
}
